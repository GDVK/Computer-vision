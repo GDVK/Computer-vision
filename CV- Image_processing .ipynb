{
 "cells": [
  {
   "cell_type": "code",
   "execution_count": 1,
   "id": "62991eb5",
   "metadata": {},
   "outputs": [],
   "source": [
    "import cv2"
   ]
  },
  {
   "cell_type": "code",
   "execution_count": 5,
   "id": "0ac1ddc8",
   "metadata": {},
   "outputs": [],
   "source": [
    "cap = cv2.VideoCapture(0)"
   ]
  },
  {
   "cell_type": "code",
   "execution_count": 7,
   "id": "c270b336",
   "metadata": {},
   "outputs": [
    {
     "data": {
      "text/plain": [
       "(True,\n",
       " array([[[137, 114, 141],\n",
       "         [126, 104, 130],\n",
       "         [116,  93, 116],\n",
       "         ...,\n",
       "         [197, 159, 185],\n",
       "         [194, 160, 184],\n",
       "         [191, 160, 182]],\n",
       " \n",
       "        [[134, 112, 138],\n",
       "         [126, 104, 129],\n",
       "         [124, 101, 124],\n",
       "         ...,\n",
       "         [201, 161, 188],\n",
       "         [197, 160, 186],\n",
       "         [193, 159, 183]],\n",
       " \n",
       "        [[127, 105, 128],\n",
       "         [125, 102, 126],\n",
       "         [128, 104, 125],\n",
       "         ...,\n",
       "         [207, 164, 192],\n",
       "         [201, 159, 187],\n",
       "         [196, 156, 183]],\n",
       " \n",
       "        ...,\n",
       " \n",
       "        [[182, 126, 120],\n",
       "         [175, 119, 113],\n",
       "         [176, 120, 114],\n",
       "         ...,\n",
       "         [255, 234, 207],\n",
       "         [255, 233, 205],\n",
       "         [255, 241, 214]],\n",
       " \n",
       "        [[187, 132, 124],\n",
       "         [176, 121, 113],\n",
       "         [179, 124, 116],\n",
       "         ...,\n",
       "         [255, 235, 208],\n",
       "         [255, 229, 202],\n",
       "         [255, 238, 210]],\n",
       " \n",
       "        [[189, 136, 125],\n",
       "         [174, 120, 110],\n",
       "         [178, 125, 115],\n",
       "         ...,\n",
       "         [255, 234, 207],\n",
       "         [255, 227, 200],\n",
       "         [255, 238, 210]]], dtype=uint8))"
      ]
     },
     "execution_count": 7,
     "metadata": {},
     "output_type": "execute_result"
    }
   ],
   "source": [
    "cap.read()"
   ]
  },
  {
   "cell_type": "code",
   "execution_count": 8,
   "id": "66b08950",
   "metadata": {},
   "outputs": [],
   "source": [
    "res, photo = cap.read()"
   ]
  },
  {
   "cell_type": "code",
   "execution_count": 9,
   "id": "07135176",
   "metadata": {},
   "outputs": [
    {
     "data": {
      "text/plain": [
       "True"
      ]
     },
     "execution_count": 9,
     "metadata": {},
     "output_type": "execute_result"
    }
   ],
   "source": [
    "res"
   ]
  },
  {
   "cell_type": "code",
   "execution_count": 10,
   "id": "61892713",
   "metadata": {},
   "outputs": [
    {
     "data": {
      "text/plain": [
       "array([[[151,  69,  87],\n",
       "        [157,  75,  93],\n",
       "        [156,  71,  89],\n",
       "        ...,\n",
       "        [224, 137, 136],\n",
       "        [228, 142, 139],\n",
       "        [224, 139, 135]],\n",
       "\n",
       "       [[163,  75,  94],\n",
       "        [167,  80,  98],\n",
       "        [165,  77,  94],\n",
       "        ...,\n",
       "        [231, 143, 140],\n",
       "        [231, 145, 141],\n",
       "        [228, 144, 137]],\n",
       "\n",
       "       [[167,  69,  88],\n",
       "        [172,  74,  93],\n",
       "        [174,  78,  95],\n",
       "        ...,\n",
       "        [233, 144, 139],\n",
       "        [230, 144, 136],\n",
       "        [226, 141, 132]],\n",
       "\n",
       "       ...,\n",
       "\n",
       "       [[211, 106,  85],\n",
       "        [212, 107,  87],\n",
       "        [205,  99,  79],\n",
       "        ...,\n",
       "        [255, 193, 156],\n",
       "        [255, 187, 150],\n",
       "        [255, 191, 153]],\n",
       "\n",
       "       [[214, 109,  86],\n",
       "        [211, 105,  83],\n",
       "        [209, 103,  81],\n",
       "        ...,\n",
       "        [255, 190, 153],\n",
       "        [255, 183, 146],\n",
       "        [255, 185, 148]],\n",
       "\n",
       "       [[210, 104,  79],\n",
       "        [206, 100,  76],\n",
       "        [208, 102,  79],\n",
       "        ...,\n",
       "        [255, 185, 147],\n",
       "        [255, 178, 140],\n",
       "        [255, 181, 143]]], dtype=uint8)"
      ]
     },
     "execution_count": 10,
     "metadata": {},
     "output_type": "execute_result"
    }
   ],
   "source": [
    "photo"
   ]
  },
  {
   "cell_type": "code",
   "execution_count": 11,
   "id": "3caaa14a",
   "metadata": {},
   "outputs": [
    {
     "data": {
      "text/plain": [
       "True"
      ]
     },
     "execution_count": 11,
     "metadata": {},
     "output_type": "execute_result"
    }
   ],
   "source": [
    "cv2.imwrite(\"my.jpg\",photo)"
   ]
  },
  {
   "cell_type": "code",
   "execution_count": null,
   "id": "f94c8a86",
   "metadata": {},
   "outputs": [],
   "source": [
    "cap.re"
   ]
  }
 ],
 "metadata": {
  "kernelspec": {
   "display_name": "Python 3",
   "language": "python",
   "name": "python3"
  },
  "language_info": {
   "codemirror_mode": {
    "name": "ipython",
    "version": 3
   },
   "file_extension": ".py",
   "mimetype": "text/x-python",
   "name": "python",
   "nbconvert_exporter": "python",
   "pygments_lexer": "ipython3",
   "version": "3.8.8"
  }
 },
 "nbformat": 4,
 "nbformat_minor": 5
}
