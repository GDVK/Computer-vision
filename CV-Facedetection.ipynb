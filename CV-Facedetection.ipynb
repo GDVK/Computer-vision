{
 "cells": [
  {
   "cell_type": "code",
   "execution_count": 1,
   "id": "d7982114",
   "metadata": {},
   "outputs": [],
   "source": [
    "import cv2 as cv"
   ]
  },
  {
   "cell_type": "code",
   "execution_count": 2,
   "id": "5ebdc59f",
   "metadata": {},
   "outputs": [],
   "source": [
    "photo = cv.imread(\"vamsi.jpg\")"
   ]
  },
  {
   "cell_type": "code",
   "execution_count": 17,
   "id": "967a7b6e",
   "metadata": {},
   "outputs": [],
   "source": [
    "rec_photo = cv.rectangle(photo, \n",
    "                         (100,100),\n",
    "                         (500,500),\n",
    "                         [0,255,0],\n",
    "                         5)"
   ]
  },
  {
   "cell_type": "code",
   "execution_count": 5,
   "id": "1433c2c9",
   "metadata": {},
   "outputs": [],
   "source": [
    "while True:\n",
    "    cv.imshow(\"Hello\",rec_photo)\n",
    "    if cv.waitKey(10) == 13:\n",
    "        break\n",
    "    \n",
    "cv.destroyAllWindows()"
   ]
  },
  {
   "cell_type": "code",
   "execution_count": 6,
   "id": "b1d0b107",
   "metadata": {},
   "outputs": [],
   "source": [
    "# There are so many models available in market (predefined models/pattern)\n",
    "# Download the face detection model "
   ]
  },
  {
   "cell_type": "code",
   "execution_count": 2,
   "id": "c19f6e94",
   "metadata": {},
   "outputs": [],
   "source": [
    "model = cv.CascadeClassifier(\"haarcascade_frontalface_default.xml\")"
   ]
  },
  {
   "cell_type": "code",
   "execution_count": 4,
   "id": "a6409b98",
   "metadata": {},
   "outputs": [],
   "source": [
    "faces = model.detectMultiScale(photo)"
   ]
  },
  {
   "cell_type": "code",
   "execution_count": 6,
   "id": "6833c91b",
   "metadata": {},
   "outputs": [
    {
     "data": {
      "text/plain": [
       "1"
      ]
     },
     "execution_count": 6,
     "metadata": {},
     "output_type": "execute_result"
    }
   ],
   "source": [
    "len(faces)"
   ]
  },
  {
   "cell_type": "code",
   "execution_count": 5,
   "id": "b5492089",
   "metadata": {},
   "outputs": [
    {
     "data": {
      "text/plain": [
       "array([[603, 201, 218, 218]], dtype=int32)"
      ]
     },
     "execution_count": 5,
     "metadata": {},
     "output_type": "execute_result"
    }
   ],
   "source": [
    "faces"
   ]
  },
  {
   "cell_type": "code",
   "execution_count": 3,
   "id": "10ecca6f",
   "metadata": {},
   "outputs": [],
   "source": [
    "cap = cv.VideoCapture(0)"
   ]
  },
  {
   "cell_type": "code",
   "execution_count": 8,
   "id": "92b52bd2",
   "metadata": {},
   "outputs": [],
   "source": [
    "while True:\n",
    "    # Capture frame-by-frame\n",
    "    ret, frame = cap.read()\n",
    "\n",
    "    gray = cv.cvtColor(frame, cv.COLOR_BGR2GRAY)\n",
    "\n",
    "    faces = model.detectMultiScale(\n",
    "        gray,\n",
    "        scaleFactor=1.1,\n",
    "        minNeighbors=5,\n",
    "        minSize=(30, 30),\n",
    "        \n",
    "    )\n",
    "\n",
    "    # Draw a rectangle around the faces\n",
    "    for (x, y, w, h) in faces:\n",
    "        cv.rectangle(frame, (x, y), (x+w, y+h), (0, 255, 0), 2)\n",
    "\n",
    "    # Display the resulting frame\n",
    "    cv.imshow('Video', frame)\n",
    "\n",
    "    if cv.waitKey(1) & 0xFF == ord('q'):\n",
    "        break\n",
    "\n",
    "# When everything is done, release the capture\n",
    "cap.release()\n",
    "cv.destroyAllWindows()"
   ]
  },
  {
   "cell_type": "code",
   "execution_count": 8,
   "id": "e805da7b",
   "metadata": {},
   "outputs": [],
   "source": [
    "cap.release()"
   ]
  },
  {
   "cell_type": "code",
   "execution_count": null,
   "id": "cb7f6cc1",
   "metadata": {},
   "outputs": [],
   "source": []
  }
 ],
 "metadata": {
  "kernelspec": {
   "display_name": "Python 3",
   "language": "python",
   "name": "python3"
  },
  "language_info": {
   "codemirror_mode": {
    "name": "ipython",
    "version": 3
   },
   "file_extension": ".py",
   "mimetype": "text/x-python",
   "name": "python",
   "nbconvert_exporter": "python",
   "pygments_lexer": "ipython3",
   "version": "3.8.8"
  }
 },
 "nbformat": 4,
 "nbformat_minor": 5
}
