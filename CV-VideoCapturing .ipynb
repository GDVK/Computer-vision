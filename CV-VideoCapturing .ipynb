{
 "cells": [
  {
   "cell_type": "code",
   "execution_count": 2,
   "id": "ae22ed3e",
   "metadata": {},
   "outputs": [],
   "source": [
    "import cv2 as cv"
   ]
  },
  {
   "cell_type": "code",
   "execution_count": null,
   "id": "b71cbcd9",
   "metadata": {},
   "outputs": [],
   "source": [
    "photo = cv.imread(\"vamsi.jpg\")"
   ]
  },
  {
   "cell_type": "code",
   "execution_count": null,
   "id": "3966c0f3",
   "metadata": {},
   "outputs": [],
   "source": [
    "cv.imshow(\"Hello\",photo)\n",
    "cv.waitKey(2000)\n",
    "cv.destroyAllWindows()"
   ]
  },
  {
   "cell_type": "code",
   "execution_count": null,
   "id": "36334efa",
   "metadata": {},
   "outputs": [],
   "source": []
  },
  {
   "cell_type": "code",
   "execution_count": null,
   "id": "c9f454f5",
   "metadata": {},
   "outputs": [],
   "source": [
    "photo.shape"
   ]
  },
  {
   "cell_type": "code",
   "execution_count": null,
   "id": "446a46b8",
   "metadata": {},
   "outputs": [],
   "source": [
    "photo[0][0]= [0,255,0]"
   ]
  },
  {
   "cell_type": "code",
   "execution_count": null,
   "id": "05dee445",
   "metadata": {},
   "outputs": [],
   "source": [
    "cv.imshow(\"Hello\",photo)\n",
    "cv.waitKey(2000)\n",
    "cv.destroyAllWindows()"
   ]
  },
  {
   "cell_type": "code",
   "execution_count": null,
   "id": "fdafccbe",
   "metadata": {},
   "outputs": [],
   "source": [
    "photo[10]= [0,255,0]"
   ]
  },
  {
   "cell_type": "code",
   "execution_count": null,
   "id": "a40e4800",
   "metadata": {},
   "outputs": [],
   "source": [
    "cv.imshow(\"Hello\",photo)\n",
    "cv.waitKey(10000)\n",
    "cv.destroyAllWindows()"
   ]
  },
  {
   "cell_type": "code",
   "execution_count": null,
   "id": "b476265b",
   "metadata": {},
   "outputs": [],
   "source": [
    "cphoto = photo[50:500,100:400]\n",
    "cv.imshow(\"Hello\",cphoto)\n",
    "cv.waitKey(10000)\n",
    "cv.destroyAllWindows()"
   ]
  },
  {
   "cell_type": "code",
   "execution_count": 3,
   "id": "28ee379a",
   "metadata": {},
   "outputs": [],
   "source": [
    "import numpy\n",
    "cn = numpy.zeros((500,500))"
   ]
  },
  {
   "cell_type": "code",
   "execution_count": null,
   "id": "0289be3e",
   "metadata": {},
   "outputs": [],
   "source": [
    "cv.imshow(\"Hello\",cn)\n",
    "cv.waitKey(10000)\n",
    "cv.destroyAllWindows()"
   ]
  },
  {
   "cell_type": "code",
   "execution_count": 7,
   "id": "2c5953c2",
   "metadata": {},
   "outputs": [],
   "source": [
    "Cap = cv.VideoCapture(0)"
   ]
  },
  {
   "cell_type": "code",
   "execution_count": 6,
   "id": "70f7936a",
   "metadata": {},
   "outputs": [],
   "source": []
  },
  {
   "cell_type": "code",
   "execution_count": null,
   "id": "53574125",
   "metadata": {},
   "outputs": [],
   "source": [
    "\n",
    "while True:\n",
    "    ret, photo = Cap.read()\n",
    "    cv.imshow(\"Hello\",photo)\n",
    "    if cv.waitKey(10) == 13:\n",
    "        break\n",
    "    \n",
    "cv.destroyAllWindows()"
   ]
  },
  {
   "cell_type": "code",
   "execution_count": null,
   "id": "11be33bd",
   "metadata": {},
   "outputs": [],
   "source": [
    "Cap.release()"
   ]
  },
  {
   "cell_type": "code",
   "execution_count": null,
   "id": "c41d99a9",
   "metadata": {},
   "outputs": [],
   "source": []
  }
 ],
 "metadata": {
  "kernelspec": {
   "display_name": "Python 3",
   "language": "python",
   "name": "python3"
  },
  "language_info": {
   "codemirror_mode": {
    "name": "ipython",
    "version": 3
   },
   "file_extension": ".py",
   "mimetype": "text/x-python",
   "name": "python",
   "nbconvert_exporter": "python",
   "pygments_lexer": "ipython3",
   "version": "3.8.8"
  }
 },
 "nbformat": 4,
 "nbformat_minor": 5
}
